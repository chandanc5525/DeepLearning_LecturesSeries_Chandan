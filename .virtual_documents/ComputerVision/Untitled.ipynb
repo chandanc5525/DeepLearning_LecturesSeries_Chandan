


pip install opencv-contrib-python


!pip install opencv-python


import numpy as np 
import cv2


import os
print("Current directory:", os.getcwd())


from PIL import Image

try:
    img = Image.open('Albert.png')
    img.show()
    print("Image opened successfully with Pillow!")
except Exception as e:
    print(f"Error opening image: {e}")


import cv2

image = cv2.imread(r'ComputerVision/Image.png')

if image is None:
    print("Error: Image not found or unable to load.")
else:
    cv2.imshow("window", image)
    cv2.waitKey(0)  # Wait indefinitely for a key press
    cv2.destroyAllWindows()
